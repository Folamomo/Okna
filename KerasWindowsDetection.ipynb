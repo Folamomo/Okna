{
  "nbformat": 4,
  "nbformat_minor": 0,
  "metadata": {
    "colab": {
      "name": "KerasWindowsDetection.ipynb",
      "provenance": [],
      "collapsed_sections": []
    },
    "kernelspec": {
      "name": "python3",
      "display_name": "Python 3"
    }
  },
  "cells": [
    {
      "cell_type": "code",
      "metadata": {
        "id": "_1wvzCTlenKr",
        "colab_type": "code",
        "colab": {}
      },
      "source": [
        "# Use scikit-learn to grid search the batch size and epochs\n",
        "import numpy as np\n",
        "from keras.models import Model\n",
        "from keras import Input\n",
        "from sklearn.model_selection import train_test_split\n",
        "from keras.wrappers.scikit_learn import KerasClassifier\n",
        "from keras.layers import *\n",
        "from sklearn.metrics import classification_report, confusion_matrix\n",
        "from keras.callbacks import EarlyStopping, ModelCheckpoint\n",
        "\n",
        "import random\n",
        "import glob\n",
        "import cv2"
      ],
      "execution_count": 0,
      "outputs": []
    },
    {
      "cell_type": "code",
      "metadata": {
        "id": "ApgTyU_BoOXY",
        "colab_type": "code",
        "outputId": "b46f0be4-097b-4b63-de53-45d9c18210c7",
        "colab": {
          "base_uri": "https://localhost:8080/",
          "height": 34
        }
      },
      "source": [
        "from google.colab import drive\n",
        "drive.mount('/content/drive')"
      ],
      "execution_count": 0,
      "outputs": [
        {
          "output_type": "stream",
          "text": [
            "Drive already mounted at /content/drive; to attempt to forcibly remount, call drive.mount(\"/content/drive\", force_remount=True).\n"
          ],
          "name": "stdout"
        }
      ]
    },
    {
      "cell_type": "code",
      "metadata": {
        "id": "fOhR0Yf5sRJW",
        "colab_type": "code",
        "colab": {}
      },
      "source": [
        "# Set the correct file path \n",
        "images_path = \"/Render/\"\n",
        "# Value used when the window is missing\n",
        "nonVector = -1000"
      ],
      "execution_count": 0,
      "outputs": []
    },
    {
      "cell_type": "markdown",
      "metadata": {
        "id": "3DahvkaGdaPN",
        "colab_type": "text"
      },
      "source": [
        "# Load data and build model"
      ]
    },
    {
      "cell_type": "markdown",
      "metadata": {
        "id": "CKmL1zHJENar",
        "colab_type": "text"
      },
      "source": [
        "**Load photos**"
      ]
    },
    {
      "cell_type": "code",
      "metadata": {
        "id": "qUOMlQBaoxRg",
        "colab_type": "code",
        "outputId": "c4524670-78f4-4a97-8e05-325c04ef3008",
        "colab": {
          "base_uri": "https://localhost:8080/",
          "height": 34
        }
      },
      "source": [
        "all_data_left = []\n",
        "for i in glob.glob(images_path + '**/left*.png', recursive=True):\n",
        "    all_data_left.append(cv2.cvtColor(cv2.imread(i), cv2.COLOR_BGR2GRAY))  \n",
        "\n",
        "all_data_left = np.stack(all_data_left)\n",
        "\n",
        "print(all_data_left.shape)"
      ],
      "execution_count": 0,
      "outputs": [
        {
          "output_type": "stream",
          "text": [
            "(628, 720, 1280)\n"
          ],
          "name": "stdout"
        }
      ]
    },
    {
      "cell_type": "code",
      "metadata": {
        "id": "fAFpipOYozSZ",
        "colab_type": "code",
        "outputId": "3e4aff8d-235e-49c7-81dd-b52e5207e34e",
        "colab": {
          "base_uri": "https://localhost:8080/",
          "height": 34
        }
      },
      "source": [
        "all_data_right = []\n",
        "for i in glob.glob(images_path + '**/right*.png', recursive=True):\n",
        "    all_data_right.append(cv2.cvtColor(cv2.imread(i), cv2.COLOR_BGR2GRAY))  \n",
        "\n",
        "all_data_right = np.stack(all_data_right)\n",
        "\n",
        "print(all_data_right.shape)"
      ],
      "execution_count": 0,
      "outputs": [
        {
          "output_type": "stream",
          "text": [
            "(628, 720, 1280)\n"
          ],
          "name": "stdout"
        }
      ]
    },
    {
      "cell_type": "markdown",
      "metadata": {
        "id": "BtZBEI1ACNLa",
        "colab_type": "text"
      },
      "source": [
        "**Load Json with photos parameters**"
      ]
    },
    {
      "cell_type": "code",
      "metadata": {
        "id": "ySWbxYvqQ_E8",
        "colab_type": "code",
        "colab": {}
      },
      "source": [
        "target_windows = []\n",
        "target_cam = []\n",
        "maxSize = 0"
      ],
      "execution_count": 0,
      "outputs": []
    },
    {
      "cell_type": "code",
      "metadata": {
        "id": "cUifaPjqC8os",
        "colab_type": "code",
        "colab": {}
      },
      "source": [
        "import json\n",
        "\n",
        "for file in glob.glob(images_path + '**/out.json', recursive=True):\n",
        "  with open(file) as json_file:\n",
        "    data = json_file.read()\n",
        "    data = data.replace(\"\\'\", \"\\\"\")\n",
        "    data = data.replace(\"][\", \"],[\")\n",
        "    json_data = json.loads(data)\n",
        "    for record in json_data:\n",
        "      single_target = [];\n",
        "      camera = [record['tilt'],record['roll']]\n",
        "      target_cam.append(np.asarray(camera))\n",
        "      for window in record['windows']:\n",
        "        single_target.append(window)\n",
        "      target_windows.append(single_target)\n",
        "\n",
        "for target in target_windows:\n",
        "  if (len(target) > maxSize):\n",
        "    maxSize = len(target)\n",
        "\n",
        "for target in target_windows:\n",
        "  if (len(target) != maxSize):\n",
        "    for i in range(len(target), maxSize):\n",
        "      target.append([nonVector,nonVector,nonVector])"
      ],
      "execution_count": 0,
      "outputs": []
    },
    {
      "cell_type": "code",
      "metadata": {
        "id": "s9_y38OhRIY6",
        "colab_type": "code",
        "outputId": "84eeb79c-8ea7-4a31-ed61-ece9a6f8ee72",
        "colab": {
          "base_uri": "https://localhost:8080/",
          "height": 50
        }
      },
      "source": [
        "target_windows = np.stack(target_windows)\n",
        "print(target_windows.shape)\n",
        "\n",
        "target_cam = np.stack(target_cam)\n",
        "print(target_cam.shape)"
      ],
      "execution_count": 0,
      "outputs": [
        {
          "output_type": "stream",
          "text": [
            "(628, 144, 3)\n",
            "(628, 2)\n"
          ],
          "name": "stdout"
        }
      ]
    },
    {
      "cell_type": "markdown",
      "metadata": {
        "id": "QT0VcZyWEsOO",
        "colab_type": "text"
      },
      "source": [
        "**Shuffle data**"
      ]
    },
    {
      "cell_type": "code",
      "metadata": {
        "id": "45ieEgC6INqp",
        "colab_type": "code",
        "colab": {}
      },
      "source": [
        "shuffle_keys = []\n",
        "for i in range (target_cam.shape[0]):\n",
        "  shuffle_keys.append(i);\n",
        "\n",
        "random.shuffle(shuffle_keys)\n",
        "\n",
        "buf_data_left = all_data_left.copy()\n",
        "buf_data_right = all_data_right.copy()\n",
        "buf_target_win = target_windows.copy()\n",
        "buf_target_cam = target_cam.copy()\n",
        "\n",
        "for i in range (all_data_left.shape[0]):\n",
        "  all_data_left[i] = buf_data_left[shuffle_keys[i]]\n",
        "  all_data_right[i] = buf_data_right[shuffle_keys[i]]\n",
        "  target_windows[i] = buf_target_win[shuffle_keys[i]]\n",
        "  target_cam[i] = buf_target_cam[shuffle_keys[i]]"
      ],
      "execution_count": 0,
      "outputs": []
    },
    {
      "cell_type": "markdown",
      "metadata": {
        "id": "KWsGEm_bE312",
        "colab_type": "text"
      },
      "source": [
        "**Division into test and training sets**"
      ]
    },
    {
      "cell_type": "code",
      "metadata": {
        "id": "aGJAq8r7EdfL",
        "colab_type": "code",
        "outputId": "07c19091-3f6b-4d67-81eb-122ec188c20c",
        "colab": {
          "base_uri": "https://localhost:8080/",
          "height": 151
        }
      },
      "source": [
        "train_data_left = all_data_left[0:int(len(all_data_left)*0.7)]\n",
        "print(train_data_left.shape)\n",
        "\n",
        "test_data_left = all_data_left[int(len(all_data_left)*0.7)-1:len(all_data_left)]\n",
        "print(test_data_left.shape)\n",
        "\n",
        "train_data_right = all_data_right[0:int(len(all_data_right)*0.7)]\n",
        "print(train_data_right.shape)\n",
        "\n",
        "test_data_right = all_data_right[int(len(all_data_right)*0.7)-1:len(all_data_right)]\n",
        "print(test_data_right.shape)\n",
        "\n",
        "train_target = target_windows[0:int(len(target_windows)*0.7)]\n",
        "print(train_target.shape)\n",
        "\n",
        "test_target = target_windows[int(len(target_windows)*0.7)-1:len(target_windows)]\n",
        "print(test_target.shape)\n",
        "\n",
        "train_target_cam = target_cam[0:int(len(target_cam)*0.7)]\n",
        "print(train_target_cam.shape)\n",
        "\n",
        "test_target_cam = target_cam[int(len(target_cam)*0.7)-1:len(target_cam)]\n",
        "print(test_target_cam.shape)"
      ],
      "execution_count": 0,
      "outputs": [
        {
          "output_type": "stream",
          "text": [
            "(439, 720, 1280)\n",
            "(190, 720, 1280)\n",
            "(439, 720, 1280)\n",
            "(190, 720, 1280)\n",
            "(439, 144, 3)\n",
            "(190, 144, 3)\n",
            "(439, 2)\n",
            "(190, 2)\n"
          ],
          "name": "stdout"
        }
      ]
    },
    {
      "cell_type": "markdown",
      "metadata": {
        "id": "moP5fACFFIh1",
        "colab_type": "text"
      },
      "source": [
        "**Huber and custom loss function**"
      ]
    },
    {
      "cell_type": "code",
      "metadata": {
        "id": "MtyG9czLljHd",
        "colab_type": "code",
        "colab": {}
      },
      "source": [
        "import tensorflow as tf\n",
        "\n",
        "def huber_loss(y_true, y_pred, clip_delta):\n",
        "  error = y_true - y_pred\n",
        "  cond  = tf.keras.backend.abs(error) < clip_delta\n",
        "\n",
        "  squared_loss = 0.5 * tf.keras.backend.square(error)\n",
        "  linear_loss  = clip_delta * (tf.keras.backend.abs(error) - 0.5 * clip_delta)\n",
        "\n",
        "  return tf.where(cond, squared_loss, linear_loss)\n",
        "\n",
        "'''\n",
        " ' Same as above but returns the mean loss.\n",
        "'''\n",
        "def huber_loss_mean(y_true, y_pred, clip_delta=500.0):\n",
        "  return tf.keras.backend.mean(huber_loss(y_true, y_pred, clip_delta))"
      ],
      "execution_count": 0,
      "outputs": []
    },
    {
      "cell_type": "code",
      "metadata": {
        "id": "DNrtgWy8BbCi",
        "colab_type": "code",
        "colab": {}
      },
      "source": [
        "def my_loss(y_true, y_pred):\n",
        "  error = y_true - y_pred\n",
        "  cond  = y_true == nonVector\n",
        "  cond2 = y_pred < nonVector/2\n",
        "\n",
        "  squared_loss = 0.5 * tf.keras.backend.square(error)\n",
        "  tmp = tf.where(cond, 0.0, squared_loss)\n",
        "\n",
        "  return tf.where(cond2, tmp, squared_loss)\n",
        "\n",
        "'''\n",
        " ' Same as above but returns the mean loss.\n",
        "'''\n",
        "def my_loss_mean(y_true, y_pred):\n",
        "  return tf.keras.backend.mean(my_loss(y_true, y_pred))"
      ],
      "execution_count": 0,
      "outputs": []
    },
    {
      "cell_type": "markdown",
      "metadata": {
        "id": "6Z-hA_9_FOcl",
        "colab_type": "text"
      },
      "source": [
        "**Build and fit model**\n",
        "\n",
        "Testing with 3 loss functions Huber, MSE and custom "
      ]
    },
    {
      "cell_type": "code",
      "metadata": {
        "id": "EOFPuQ1MfJFx",
        "colab_type": "code",
        "outputId": "20d82085-34d5-483f-8226-b4a9996a8f39",
        "colab": {
          "base_uri": "https://localhost:8080/",
          "height": 773
        }
      },
      "source": [
        "def build_model():\n",
        "  inp1 = Input((720,1280))\n",
        "  inp2 = Input((720,1280))\n",
        "\n",
        "  x = concatenate([inp1, inp2],axis=-1)\n",
        "  x = Conv1D(filters=32, kernel_size=3, activation='relu')(x)\n",
        "  x = MaxPooling1D(pool_size=2)(x)\n",
        "  x = Conv1D(filters=64, kernel_size=3, activation='relu')(x)\n",
        "  x = MaxPooling1D(pool_size=2)(x)\n",
        "  x = Conv1D(filters=64, kernel_size=3, activation='relu')(x)\n",
        "  x = MaxPooling1D(pool_size=2)(x)\n",
        "  x = Conv1D(filters=64, kernel_size=3, activation='relu')(x)\n",
        "  x = MaxPooling1D(pool_size=2)(x)\n",
        "\n",
        "  # first output cam\n",
        "  out1 = Flatten()(x)\n",
        "  out1 = Dense(3000)(out1)\n",
        "  out1 = Dense(2)(out1)\n",
        "\n",
        "  # second output windows\n",
        "  out2 = Flatten()(x)\n",
        "  out2 = Dense(3000)(out2)\n",
        "  out2 = Dense(maxSize*3)(out2)\n",
        "  out2 = Reshape((maxSize, 3))(out2)\n",
        "\n",
        "  model = Model([inp1,inp2], [out1, out2])\n",
        "  return model\n",
        "\n",
        "model = build_model();\n",
        "# model.compile(optimizer='rmsprop', loss=huber_loss_mean, metrics=['mae'])\n",
        "# model.compile(optimizer='rmsprop', loss=my_loss_mean, metrics=['mae'])\n",
        "model.compile(optimizer='rmsprop', loss='mse', metrics=['mae'])\n",
        "model.summary()"
      ],
      "execution_count": 0,
      "outputs": [
        {
          "output_type": "stream",
          "text": [
            "Model: \"model_3\"\n",
            "__________________________________________________________________________________________________\n",
            "Layer (type)                    Output Shape         Param #     Connected to                     \n",
            "==================================================================================================\n",
            "input_5 (InputLayer)            (None, 720, 1280)    0                                            \n",
            "__________________________________________________________________________________________________\n",
            "input_6 (InputLayer)            (None, 720, 1280)    0                                            \n",
            "__________________________________________________________________________________________________\n",
            "concatenate_3 (Concatenate)     (None, 720, 2560)    0           input_5[0][0]                    \n",
            "                                                                 input_6[0][0]                    \n",
            "__________________________________________________________________________________________________\n",
            "conv1d_9 (Conv1D)               (None, 718, 32)      245792      concatenate_3[0][0]              \n",
            "__________________________________________________________________________________________________\n",
            "max_pooling1d_9 (MaxPooling1D)  (None, 359, 32)      0           conv1d_9[0][0]                   \n",
            "__________________________________________________________________________________________________\n",
            "conv1d_10 (Conv1D)              (None, 357, 64)      6208        max_pooling1d_9[0][0]            \n",
            "__________________________________________________________________________________________________\n",
            "max_pooling1d_10 (MaxPooling1D) (None, 178, 64)      0           conv1d_10[0][0]                  \n",
            "__________________________________________________________________________________________________\n",
            "conv1d_11 (Conv1D)              (None, 176, 64)      12352       max_pooling1d_10[0][0]           \n",
            "__________________________________________________________________________________________________\n",
            "max_pooling1d_11 (MaxPooling1D) (None, 88, 64)       0           conv1d_11[0][0]                  \n",
            "__________________________________________________________________________________________________\n",
            "conv1d_12 (Conv1D)              (None, 86, 64)       12352       max_pooling1d_11[0][0]           \n",
            "__________________________________________________________________________________________________\n",
            "max_pooling1d_12 (MaxPooling1D) (None, 43, 64)       0           conv1d_12[0][0]                  \n",
            "__________________________________________________________________________________________________\n",
            "flatten_6 (Flatten)             (None, 2752)         0           max_pooling1d_12[0][0]           \n",
            "__________________________________________________________________________________________________\n",
            "flatten_5 (Flatten)             (None, 2752)         0           max_pooling1d_12[0][0]           \n",
            "__________________________________________________________________________________________________\n",
            "dense_11 (Dense)                (None, 3000)         8259000     flatten_6[0][0]                  \n",
            "__________________________________________________________________________________________________\n",
            "dense_9 (Dense)                 (None, 3000)         8259000     flatten_5[0][0]                  \n",
            "__________________________________________________________________________________________________\n",
            "dense_12 (Dense)                (None, 432)          1296432     dense_11[0][0]                   \n",
            "__________________________________________________________________________________________________\n",
            "dense_10 (Dense)                (None, 2)            6002        dense_9[0][0]                    \n",
            "__________________________________________________________________________________________________\n",
            "reshape_3 (Reshape)             (None, 144, 3)       0           dense_12[0][0]                   \n",
            "==================================================================================================\n",
            "Total params: 18,097,138\n",
            "Trainable params: 18,097,138\n",
            "Non-trainable params: 0\n",
            "__________________________________________________________________________________________________\n"
          ],
          "name": "stdout"
        }
      ]
    },
    {
      "cell_type": "code",
      "metadata": {
        "id": "c15g3nSHq3UR",
        "colab_type": "code",
        "colab": {}
      },
      "source": [
        "es = EarlyStopping(monitor='loss', mode='min', verbose=1, patience=5, min_delta=0.0001) \n",
        "mc = ModelCheckpoint('best_model.hdf5', monitor='loss', verbose=1, save_best_only=True, mode='min')"
      ],
      "execution_count": 0,
      "outputs": []
    },
    {
      "cell_type": "code",
      "metadata": {
        "id": "c4YaS38LQGfj",
        "colab_type": "code",
        "outputId": "81bbdcfd-0e73-471a-acd1-f81c47b0cf95",
        "colab": {
          "base_uri": "https://localhost:8080/",
          "height": 1000
        }
      },
      "source": [
        "history=model.fit([train_data_left, train_data_right], [train_target_cam, train_target], epochs=50, callbacks=[es,mc], batch_size=1)"
      ],
      "execution_count": 0,
      "outputs": [
        {
          "output_type": "stream",
          "text": [
            "Epoch 1/50\n",
            "439/439 [==============================] - 74s 168ms/step - loss: 2705969.7229 - dense_10_loss: 2195426.2500 - reshape_3_loss: 510544.0938 - dense_10_mae: 286.0012 - reshape_3_mae: 481.8189\n",
            "\n",
            "Epoch 00001: loss improved from inf to 2705969.72288, saving model to /content/drive/My Drive/best_model.hdf5\n",
            "Epoch 2/50\n",
            "439/439 [==============================] - 74s 168ms/step - loss: 437308.2415 - dense_10_loss: 9773.5137 - reshape_3_loss: 427534.9375 - dense_10_mae: 57.5836 - reshape_3_mae: 424.6139\n",
            "\n",
            "Epoch 00002: loss improved from 2705969.72288 to 437308.24148, saving model to /content/drive/My Drive/best_model.hdf5\n",
            "Epoch 3/50\n",
            "439/439 [==============================] - 74s 168ms/step - loss: 374395.8397 - dense_10_loss: 11195.6455 - reshape_3_loss: 363200.4688 - dense_10_mae: 60.5292 - reshape_3_mae: 431.5523\n",
            "\n",
            "Epoch 00003: loss improved from 437308.24148 to 374395.83972, saving model to /content/drive/My Drive/best_model.hdf5\n",
            "Epoch 4/50\n",
            "439/439 [==============================] - 73s 167ms/step - loss: 354170.1093 - dense_10_loss: 7614.2368 - reshape_3_loss: 346555.8750 - dense_10_mae: 58.9820 - reshape_3_mae: 425.6443\n",
            "\n",
            "Epoch 00004: loss improved from 374395.83972 to 354170.10926, saving model to /content/drive/My Drive/best_model.hdf5\n",
            "Epoch 5/50\n",
            "439/439 [==============================] - 74s 167ms/step - loss: 209018.7871 - dense_10_loss: 2892.1680 - reshape_3_loss: 206126.5938 - dense_10_mae: 34.6482 - reshape_3_mae: 335.9178\n",
            "\n",
            "Epoch 00005: loss improved from 354170.10926 to 209018.78714, saving model to /content/drive/My Drive/best_model.hdf5\n",
            "Epoch 6/50\n",
            "439/439 [==============================] - 73s 167ms/step - loss: 151118.3492 - dense_10_loss: 1741.4677 - reshape_3_loss: 149376.8906 - dense_10_mae: 27.1694 - reshape_3_mae: 282.6528\n",
            "\n",
            "Epoch 00006: loss improved from 209018.78714 to 151118.34919, saving model to /content/drive/My Drive/best_model.hdf5\n",
            "Epoch 7/50\n",
            "439/439 [==============================] - 73s 166ms/step - loss: 94986.7405 - dense_10_loss: 710.9166 - reshape_3_loss: 94275.8438 - dense_10_mae: 18.1800 - reshape_3_mae: 223.1329\n",
            "\n",
            "Epoch 00007: loss improved from 151118.34919 to 94986.74045, saving model to /content/drive/My Drive/best_model.hdf5\n",
            "Epoch 8/50\n",
            "439/439 [==============================] - 75s 171ms/step - loss: 79979.9355 - dense_10_loss: 372.6105 - reshape_3_loss: 79607.3281 - dense_10_mae: 13.5554 - reshape_3_mae: 199.3676\n",
            "\n",
            "Epoch 00008: loss improved from 94986.74045 to 79979.93548, saving model to /content/drive/My Drive/best_model.hdf5\n",
            "Epoch 9/50\n",
            "439/439 [==============================] - 76s 173ms/step - loss: 78146.4829 - dense_10_loss: 859.2415 - reshape_3_loss: 77287.2422 - dense_10_mae: 17.8775 - reshape_3_mae: 197.3045\n",
            "\n",
            "Epoch 00009: loss improved from 79979.93548 to 78146.48295, saving model to /content/drive/My Drive/best_model.hdf5\n",
            "Epoch 10/50\n",
            "439/439 [==============================] - 75s 171ms/step - loss: 97311.8760 - dense_10_loss: 2375.1038 - reshape_3_loss: 94936.7500 - dense_10_mae: 23.8951 - reshape_3_mae: 213.4739\n",
            "\n",
            "Epoch 00010: loss did not improve from 78146.48295\n",
            "Epoch 11/50\n",
            "439/439 [==============================] - 73s 166ms/step - loss: 82563.9568 - dense_10_loss: 703.1292 - reshape_3_loss: 81860.8047 - dense_10_mae: 17.2530 - reshape_3_mae: 198.2971\n",
            "\n",
            "Epoch 00011: loss did not improve from 78146.48295\n",
            "Epoch 12/50\n",
            "439/439 [==============================] - 77s 175ms/step - loss: 75418.8635 - dense_10_loss: 1135.3354 - reshape_3_loss: 74283.5469 - dense_10_mae: 22.1047 - reshape_3_mae: 191.3551\n",
            "\n",
            "Epoch 00012: loss improved from 78146.48295 to 75418.86350, saving model to /content/drive/My Drive/best_model.hdf5\n",
            "Epoch 13/50\n",
            "439/439 [==============================] - 74s 169ms/step - loss: 70825.1142 - dense_10_loss: 692.3554 - reshape_3_loss: 70132.7344 - dense_10_mae: 17.2301 - reshape_3_mae: 178.1540\n",
            "\n",
            "Epoch 00013: loss improved from 75418.86350 to 70825.11424, saving model to /content/drive/My Drive/best_model.hdf5\n",
            "Epoch 14/50\n",
            "439/439 [==============================] - 74s 169ms/step - loss: 64848.8629 - dense_10_loss: 599.4711 - reshape_3_loss: 64249.4258 - dense_10_mae: 16.6695 - reshape_3_mae: 178.1200\n",
            "\n",
            "Epoch 00014: loss improved from 70825.11424 to 64848.86292, saving model to /content/drive/My Drive/best_model.hdf5\n",
            "Epoch 15/50\n",
            "439/439 [==============================] - 75s 171ms/step - loss: 76875.3674 - dense_10_loss: 941.1564 - reshape_3_loss: 75934.2188 - dense_10_mae: 19.4947 - reshape_3_mae: 189.7570\n",
            "\n",
            "Epoch 00015: loss did not improve from 64848.86292\n",
            "Epoch 16/50\n",
            "439/439 [==============================] - 74s 170ms/step - loss: 91187.8703 - dense_10_loss: 701.1214 - reshape_3_loss: 90486.7500 - dense_10_mae: 18.2304 - reshape_3_mae: 203.9043\n",
            "\n",
            "Epoch 00016: loss did not improve from 64848.86292\n",
            "Epoch 17/50\n",
            "439/439 [==============================] - 74s 169ms/step - loss: 66640.6371 - dense_10_loss: 680.6581 - reshape_3_loss: 65959.9609 - dense_10_mae: 17.2973 - reshape_3_mae: 179.4776\n",
            "\n",
            "Epoch 00017: loss did not improve from 64848.86292\n",
            "Epoch 18/50\n",
            "439/439 [==============================] - 73s 166ms/step - loss: 74226.8036 - dense_10_loss: 898.9507 - reshape_3_loss: 73327.8984 - dense_10_mae: 19.9854 - reshape_3_mae: 188.8175\n",
            "\n",
            "Epoch 00018: loss did not improve from 64848.86292\n",
            "Epoch 19/50\n",
            "439/439 [==============================] - 73s 165ms/step - loss: 71259.1931 - dense_10_loss: 645.9357 - reshape_3_loss: 70613.2500 - dense_10_mae: 18.1878 - reshape_3_mae: 186.2935\n",
            "\n",
            "Epoch 00019: loss did not improve from 64848.86292\n",
            "Epoch 00019: early stopping\n"
          ],
          "name": "stdout"
        }
      ]
    },
    {
      "cell_type": "markdown",
      "metadata": {
        "id": "3rAC6Uw9dUE2",
        "colab_type": "text"
      },
      "source": [
        "# Load model and analyze results"
      ]
    },
    {
      "cell_type": "code",
      "metadata": {
        "id": "UVWQSpdyj91v",
        "colab_type": "code",
        "colab": {}
      },
      "source": [
        "import keras.losses\n",
        "keras.losses.huber_loss_mean = huber_loss_mean\n",
        "keras.losses.my_loss_mean = my_loss_mean"
      ],
      "execution_count": 0,
      "outputs": []
    },
    {
      "cell_type": "code",
      "metadata": {
        "id": "ZhdeGM3SQAML",
        "colab_type": "code",
        "colab": {}
      },
      "source": [
        "from keras.models import load_model\n",
        "model=load_model('best_model.hdf5')"
      ],
      "execution_count": 0,
      "outputs": []
    },
    {
      "cell_type": "code",
      "metadata": {
        "id": "hP9ejadrkYdp",
        "colab_type": "code",
        "colab": {}
      },
      "source": [
        "[pred_target_cam,pred_target_windows] = model.predict([test_data_left,test_data_right])"
      ],
      "execution_count": 0,
      "outputs": []
    },
    {
      "cell_type": "code",
      "metadata": {
        "id": "qVmGXUfekGF4",
        "colab_type": "code",
        "outputId": "82bbeae7-c300-4034-8fbf-68310d384356",
        "colab": {
          "base_uri": "https://localhost:8080/",
          "height": 118
        }
      },
      "source": [
        "loss, cam_loss, windows_loss, cam_metrics, windows_metrics  = model.evaluate([test_data_left,test_data_right], [test_target_cam, test_target])\n",
        "print(\"loss :\", loss)\n",
        "print(\"cam_loss: \",cam_loss)\n",
        "print(\"windows_loss: \", windows_loss)\n",
        "print(\"cam_metrics: \", cam_metrics)\n",
        "print(\"windows_metrics: \", windows_metrics)"
      ],
      "execution_count": 0,
      "outputs": [
        {
          "output_type": "stream",
          "text": [
            "190/190 [==============================] - 3s 14ms/step\n",
            "loss : 77488.51332236842\n",
            "cam_loss:  152.37286376953125\n",
            "windows_loss:  77309.5546875\n",
            "cam_metrics:  9.623960494995117\n",
            "windows_metrics:  197.10873413085938\n"
          ],
          "name": "stdout"
        }
      ]
    },
    {
      "cell_type": "markdown",
      "metadata": {
        "id": "McYuIUFfdwlX",
        "colab_type": "text"
      },
      "source": [
        "**Compare predict result with real**"
      ]
    },
    {
      "cell_type": "code",
      "metadata": {
        "id": "tDvz6yvRKibB",
        "colab_type": "code",
        "outputId": "1fd6a05c-cae1-4900-86d2-93634b06f89c",
        "colab": {
          "base_uri": "https://localhost:8080/",
          "height": 1000
        }
      },
      "source": [
        "print(pred_target_windows[2])\n",
        "print(test_target[2])"
      ],
      "execution_count": 0,
      "outputs": [
        {
          "output_type": "stream",
          "text": [
            "[[  -10.515834     64.79555      71.478165 ]\n",
            " [  -54.41687      50.36494     -32.827316 ]\n",
            " [  -22.858803      4.8844266   -13.476168 ]\n",
            " [   -7.1158895   103.77395      22.437204 ]\n",
            " [  -87.36763      65.61594     -33.321327 ]\n",
            " [  -53.50479      23.25414      34.047752 ]\n",
            " [  -51.27337      89.25115      67.40274  ]\n",
            " [   26.89279     -12.319849     87.603714 ]\n",
            " [   64.358604     56.84823      37.91698  ]\n",
            " [   -2.9155014    12.66102      48.93273  ]\n",
            " [   31.673723     71.94319      -2.1186757]\n",
            " [ -113.99135      24.21956      -5.668258 ]\n",
            " [   -4.327773     76.17695      69.20424  ]\n",
            " [   35.575897    -41.41187       2.5408993]\n",
            " [   64.381584    128.70493      37.147488 ]\n",
            " [   93.36191      61.0635       32.88103  ]\n",
            " [    2.5550387   -19.793457    -86.08118  ]\n",
            " [   90.66158     -48.259876     43.168495 ]\n",
            " [   30.043365     41.95741     -25.178946 ]\n",
            " [  -91.85182      28.627132     21.682302 ]\n",
            " [ -890.6742     -886.5179     -869.7052   ]\n",
            " [ -880.9566     -885.84705    -858.17883  ]\n",
            " [ -885.695      -872.75543    -878.8031   ]\n",
            " [ -880.3611     -878.81335    -891.8601   ]\n",
            " [ -945.4122     -942.28357    -944.56976  ]\n",
            " [ -923.28       -952.9076     -923.7943   ]\n",
            " [ -939.3002     -971.34485    -927.54474  ]\n",
            " [ -941.4914     -934.3366     -912.568    ]\n",
            " [ -948.8757     -935.0895     -950.05896  ]\n",
            " [ -955.0793     -948.2412     -935.3942   ]\n",
            " [ -938.7258     -947.0801     -935.85077  ]\n",
            " [ -934.1859     -961.5264     -956.14294  ]\n",
            " [ -981.01874    -979.3206     -966.4089   ]\n",
            " [ -971.83295    -971.16736    -945.81805  ]\n",
            " [ -974.61304    -994.0717    -1005.4445   ]\n",
            " [ -972.90625    -997.29156   -1003.39526  ]\n",
            " [-1118.9736    -1099.4718    -1124.4602   ]\n",
            " [-1113.244     -1099.3972    -1098.4248   ]\n",
            " [-1111.955     -1111.9131    -1118.9482   ]\n",
            " [-1116.2408    -1141.558     -1111.6837   ]\n",
            " [-1108.7068    -1121.0432    -1098.9901   ]\n",
            " [-1114.3921    -1129.9242    -1119.1052   ]\n",
            " [-1093.0945    -1129.0447    -1103.6086   ]\n",
            " [-1085.9448    -1128.988     -1097.6552   ]\n",
            " [-1101.1986    -1097.3202    -1101.2291   ]\n",
            " [-1107.1458    -1087.0814    -1102.5831   ]\n",
            " [-1130.7762    -1109.1173    -1113.7435   ]\n",
            " [-1127.8394    -1108.9291    -1095.16     ]\n",
            " [ -676.98956    -654.7644     -655.9372   ]\n",
            " [ -679.4327     -641.4444     -665.0308   ]\n",
            " [ -645.61505    -654.37213    -665.8465   ]\n",
            " [ -666.11414    -652.28754    -678.81934  ]\n",
            " [ -680.3833     -664.4699     -639.8251   ]\n",
            " [ -650.52765    -667.00684    -642.81616  ]\n",
            " [ -659.2814     -675.09766    -670.8679   ]\n",
            " [ -669.03894    -665.72614    -669.31085  ]\n",
            " [ -729.5226     -722.41724    -732.432    ]\n",
            " [ -735.6368     -721.8597     -733.7375   ]\n",
            " [ -733.20636    -729.6527     -734.4763   ]\n",
            " [ -740.9007     -739.50824    -735.9422   ]\n",
            " [ -745.6247     -740.04443    -733.825    ]\n",
            " [ -747.86816    -759.302      -735.46173  ]\n",
            " [ -736.6548     -711.2306     -745.46405  ]\n",
            " [ -755.6929     -749.33795    -758.4836   ]\n",
            " [ -747.38245    -749.47894    -746.25055  ]\n",
            " [ -741.0224     -758.4153     -743.93823  ]\n",
            " [ -750.861      -752.21606    -721.69464  ]\n",
            " [ -733.91583    -741.17377    -755.8181   ]\n",
            " [ -758.6641     -734.9304     -742.3921   ]\n",
            " [ -726.38885    -761.1973     -733.1249   ]\n",
            " [ -744.40216    -721.5678     -738.0385   ]\n",
            " [ -778.90173    -749.70685    -728.2545   ]\n",
            " [ -721.58765    -746.84375    -760.7548   ]\n",
            " [ -726.8774     -727.9377     -740.3197   ]\n",
            " [ -747.19275    -698.8772     -728.3656   ]\n",
            " [ -740.3486     -727.009      -737.17914  ]\n",
            " [ -745.2019     -732.3249     -749.9427   ]\n",
            " [ -739.76794    -771.7925     -736.9195   ]\n",
            " [ -723.6597     -744.97644    -744.85706  ]\n",
            " [ -756.8369     -744.7137     -731.72473  ]\n",
            " [ -963.31946    -971.9556     -958.333    ]\n",
            " [ -988.6375     -959.6484     -979.3413   ]\n",
            " [ -996.41034    -982.6311    -1004.3987   ]\n",
            " [ -988.87756    -972.2508     -985.42395  ]\n",
            " [-1008.01495    -990.33795    -936.9768   ]\n",
            " [ -966.07104    -954.6812     -960.43353  ]\n",
            " [ -981.10645    -963.02747    -960.4935   ]\n",
            " [ -971.19885    -976.29474    -975.62805  ]\n",
            " [ -958.0527     -969.12256    -991.5245   ]\n",
            " [ -981.50134    -968.8389     -985.65625  ]\n",
            " [ -983.7947     -991.2968     -970.6596   ]\n",
            " [ -978.0896     -971.65015    -986.93536  ]\n",
            " [ -952.5753     -983.672      -960.3365   ]\n",
            " [ -972.0758     -968.7035     -968.4024   ]\n",
            " [ -968.0217     -979.26404    -958.4536   ]\n",
            " [ -954.4951     -962.9842     -992.0158   ]\n",
            " [ -964.3256     -970.4053     -945.05853  ]\n",
            " [ -968.85016    -963.66034    -960.99915  ]\n",
            " [-1001.76184    -984.4589     -966.6471   ]\n",
            " [ -973.7182     -950.30365    -979.171    ]\n",
            " [ -983.01306    -981.5546     -990.17944  ]\n",
            " [ -989.7493     -991.80707    -966.9933   ]\n",
            " [ -985.2759     -972.26697    -967.29913  ]\n",
            " [ -969.5751     -950.33527    -984.22797  ]\n",
            " [ -960.3557     -973.2735    -1003.72205  ]\n",
            " [-1000.68396    -970.14355    -965.6328   ]\n",
            " [ -985.659      -943.5253     -963.0249   ]\n",
            " [ -963.2931     -976.6236     -968.51434  ]\n",
            " [ -967.1412     -985.0203     -976.50726  ]\n",
            " [ -978.249      -958.7727     -967.3157   ]\n",
            " [ -980.7695     -953.08215    -960.85425  ]\n",
            " [ -982.9498     -976.7865     -961.5576   ]\n",
            " [ -980.5421     -949.7753     -991.75305  ]\n",
            " [ -954.6227     -964.5987     -982.63446  ]\n",
            " [ -930.5167     -947.54553    -985.72614  ]\n",
            " [ -970.9002    -1002.622      -968.7082   ]\n",
            " [ -972.2377     -960.0416     -965.60187  ]\n",
            " [ -960.4114     -986.48486    -975.4664   ]\n",
            " [ -978.53906    -972.5729     -975.43     ]\n",
            " [ -949.2768     -990.34924    -985.7687   ]\n",
            " [ -964.168      -953.54285    -957.23724  ]\n",
            " [ -982.1704     -986.9065     -981.27545  ]\n",
            " [ -964.63214    -976.19336    -973.2463   ]\n",
            " [ -983.49615    -978.0432     -983.7821   ]\n",
            " [ -960.8273     -985.57385    -970.8433   ]\n",
            " [ -964.9295     -945.43085    -974.8445   ]\n",
            " [ -993.51904    -969.80347    -952.4999   ]\n",
            " [ -949.1767     -995.8923     -969.9      ]\n",
            " [ -985.04504    -982.3494     -938.26184  ]\n",
            " [ -991.7702     -973.099      -958.0447   ]\n",
            " [ -968.9806     -972.1632     -985.8477   ]\n",
            " [ -996.6553     -977.91895    -973.5507   ]\n",
            " [ -966.12396    -957.24774    -975.9344   ]\n",
            " [ -953.3418     -958.73254    -993.6958   ]\n",
            " [ -955.3914     -968.50616    -998.971    ]\n",
            " [ -982.86566    -941.42847    -968.1133   ]\n",
            " [ -979.1061     -988.1123     -985.73914  ]\n",
            " [ -956.44666    -954.633      -975.8827   ]\n",
            " [ -966.8536     -942.78186    -955.5508   ]\n",
            " [ -971.36505    -985.2457     -954.8978   ]\n",
            " [ -978.97614    -957.59644    -990.82623  ]\n",
            " [ -952.9653     -974.52057    -939.97217  ]\n",
            " [ -967.75745    -981.316      -985.89435  ]\n",
            " [ -971.058      -990.4573     -966.9317   ]]\n",
            "[[-1.75571823e+00  2.07466927e+01  2.36398458e+00]\n",
            " [-8.50992203e-01  2.00156364e+01  2.36398458e+00]\n",
            " [-1.75571823e+00  2.07466927e+01  1.49544990e+00]\n",
            " [-8.50992203e-01  2.00156364e+01  1.49544990e+00]\n",
            " [-4.66705322e-01  1.97051201e+01  2.36398458e+00]\n",
            " [ 4.38020706e-01  1.89740639e+01  2.36398458e+00]\n",
            " [-4.66705322e-01  1.97051201e+01  1.49544990e+00]\n",
            " [ 4.38020706e-01  1.89740639e+01  1.49544990e+00]\n",
            " [ 9.53118324e-01  1.88790379e+01  2.36398458e+00]\n",
            " [ 1.60824966e+00  1.96898041e+01  2.36398458e+00]\n",
            " [ 9.53118324e-01  1.88790379e+01  1.49544990e+00]\n",
            " [ 1.60824966e+00  1.96898041e+01  1.49544990e+00]\n",
            " [ 1.95351124e+00  2.01170864e+01  2.36398458e+00]\n",
            " [ 2.60864353e+00  2.09278545e+01  2.36398458e+00]\n",
            " [ 1.95351124e+00  2.01170864e+01  1.49544990e+00]\n",
            " [ 2.60864353e+00  2.09278545e+01  1.49544990e+00]\n",
            " [-4.66705322e-01  1.97051201e+01  4.67565775e-01]\n",
            " [ 4.38020706e-01  1.89740639e+01  4.67565775e-01]\n",
            " [-4.66705322e-01  1.97051201e+01 -4.00968909e-01]\n",
            " [ 4.38020706e-01  1.89740639e+01 -4.00968909e-01]\n",
            " [-1.00000000e+03 -1.00000000e+03 -1.00000000e+03]\n",
            " [-1.00000000e+03 -1.00000000e+03 -1.00000000e+03]\n",
            " [-1.00000000e+03 -1.00000000e+03 -1.00000000e+03]\n",
            " [-1.00000000e+03 -1.00000000e+03 -1.00000000e+03]\n",
            " [-1.00000000e+03 -1.00000000e+03 -1.00000000e+03]\n",
            " [-1.00000000e+03 -1.00000000e+03 -1.00000000e+03]\n",
            " [-1.00000000e+03 -1.00000000e+03 -1.00000000e+03]\n",
            " [-1.00000000e+03 -1.00000000e+03 -1.00000000e+03]\n",
            " [-1.00000000e+03 -1.00000000e+03 -1.00000000e+03]\n",
            " [-1.00000000e+03 -1.00000000e+03 -1.00000000e+03]\n",
            " [-1.00000000e+03 -1.00000000e+03 -1.00000000e+03]\n",
            " [-1.00000000e+03 -1.00000000e+03 -1.00000000e+03]\n",
            " [-1.00000000e+03 -1.00000000e+03 -1.00000000e+03]\n",
            " [-1.00000000e+03 -1.00000000e+03 -1.00000000e+03]\n",
            " [-1.00000000e+03 -1.00000000e+03 -1.00000000e+03]\n",
            " [-1.00000000e+03 -1.00000000e+03 -1.00000000e+03]\n",
            " [-1.00000000e+03 -1.00000000e+03 -1.00000000e+03]\n",
            " [-1.00000000e+03 -1.00000000e+03 -1.00000000e+03]\n",
            " [-1.00000000e+03 -1.00000000e+03 -1.00000000e+03]\n",
            " [-1.00000000e+03 -1.00000000e+03 -1.00000000e+03]\n",
            " [-1.00000000e+03 -1.00000000e+03 -1.00000000e+03]\n",
            " [-1.00000000e+03 -1.00000000e+03 -1.00000000e+03]\n",
            " [-1.00000000e+03 -1.00000000e+03 -1.00000000e+03]\n",
            " [-1.00000000e+03 -1.00000000e+03 -1.00000000e+03]\n",
            " [-1.00000000e+03 -1.00000000e+03 -1.00000000e+03]\n",
            " [-1.00000000e+03 -1.00000000e+03 -1.00000000e+03]\n",
            " [-1.00000000e+03 -1.00000000e+03 -1.00000000e+03]\n",
            " [-1.00000000e+03 -1.00000000e+03 -1.00000000e+03]\n",
            " [-1.00000000e+03 -1.00000000e+03 -1.00000000e+03]\n",
            " [-1.00000000e+03 -1.00000000e+03 -1.00000000e+03]\n",
            " [-1.00000000e+03 -1.00000000e+03 -1.00000000e+03]\n",
            " [-1.00000000e+03 -1.00000000e+03 -1.00000000e+03]\n",
            " [-1.00000000e+03 -1.00000000e+03 -1.00000000e+03]\n",
            " [-1.00000000e+03 -1.00000000e+03 -1.00000000e+03]\n",
            " [-1.00000000e+03 -1.00000000e+03 -1.00000000e+03]\n",
            " [-1.00000000e+03 -1.00000000e+03 -1.00000000e+03]\n",
            " [-1.00000000e+03 -1.00000000e+03 -1.00000000e+03]\n",
            " [-1.00000000e+03 -1.00000000e+03 -1.00000000e+03]\n",
            " [-1.00000000e+03 -1.00000000e+03 -1.00000000e+03]\n",
            " [-1.00000000e+03 -1.00000000e+03 -1.00000000e+03]\n",
            " [-1.00000000e+03 -1.00000000e+03 -1.00000000e+03]\n",
            " [-1.00000000e+03 -1.00000000e+03 -1.00000000e+03]\n",
            " [-1.00000000e+03 -1.00000000e+03 -1.00000000e+03]\n",
            " [-1.00000000e+03 -1.00000000e+03 -1.00000000e+03]\n",
            " [-1.00000000e+03 -1.00000000e+03 -1.00000000e+03]\n",
            " [-1.00000000e+03 -1.00000000e+03 -1.00000000e+03]\n",
            " [-1.00000000e+03 -1.00000000e+03 -1.00000000e+03]\n",
            " [-1.00000000e+03 -1.00000000e+03 -1.00000000e+03]\n",
            " [-1.00000000e+03 -1.00000000e+03 -1.00000000e+03]\n",
            " [-1.00000000e+03 -1.00000000e+03 -1.00000000e+03]\n",
            " [-1.00000000e+03 -1.00000000e+03 -1.00000000e+03]\n",
            " [-1.00000000e+03 -1.00000000e+03 -1.00000000e+03]\n",
            " [-1.00000000e+03 -1.00000000e+03 -1.00000000e+03]\n",
            " [-1.00000000e+03 -1.00000000e+03 -1.00000000e+03]\n",
            " [-1.00000000e+03 -1.00000000e+03 -1.00000000e+03]\n",
            " [-1.00000000e+03 -1.00000000e+03 -1.00000000e+03]\n",
            " [-1.00000000e+03 -1.00000000e+03 -1.00000000e+03]\n",
            " [-1.00000000e+03 -1.00000000e+03 -1.00000000e+03]\n",
            " [-1.00000000e+03 -1.00000000e+03 -1.00000000e+03]\n",
            " [-1.00000000e+03 -1.00000000e+03 -1.00000000e+03]\n",
            " [-1.00000000e+03 -1.00000000e+03 -1.00000000e+03]\n",
            " [-1.00000000e+03 -1.00000000e+03 -1.00000000e+03]\n",
            " [-1.00000000e+03 -1.00000000e+03 -1.00000000e+03]\n",
            " [-1.00000000e+03 -1.00000000e+03 -1.00000000e+03]\n",
            " [-1.00000000e+03 -1.00000000e+03 -1.00000000e+03]\n",
            " [-1.00000000e+03 -1.00000000e+03 -1.00000000e+03]\n",
            " [-1.00000000e+03 -1.00000000e+03 -1.00000000e+03]\n",
            " [-1.00000000e+03 -1.00000000e+03 -1.00000000e+03]\n",
            " [-1.00000000e+03 -1.00000000e+03 -1.00000000e+03]\n",
            " [-1.00000000e+03 -1.00000000e+03 -1.00000000e+03]\n",
            " [-1.00000000e+03 -1.00000000e+03 -1.00000000e+03]\n",
            " [-1.00000000e+03 -1.00000000e+03 -1.00000000e+03]\n",
            " [-1.00000000e+03 -1.00000000e+03 -1.00000000e+03]\n",
            " [-1.00000000e+03 -1.00000000e+03 -1.00000000e+03]\n",
            " [-1.00000000e+03 -1.00000000e+03 -1.00000000e+03]\n",
            " [-1.00000000e+03 -1.00000000e+03 -1.00000000e+03]\n",
            " [-1.00000000e+03 -1.00000000e+03 -1.00000000e+03]\n",
            " [-1.00000000e+03 -1.00000000e+03 -1.00000000e+03]\n",
            " [-1.00000000e+03 -1.00000000e+03 -1.00000000e+03]\n",
            " [-1.00000000e+03 -1.00000000e+03 -1.00000000e+03]\n",
            " [-1.00000000e+03 -1.00000000e+03 -1.00000000e+03]\n",
            " [-1.00000000e+03 -1.00000000e+03 -1.00000000e+03]\n",
            " [-1.00000000e+03 -1.00000000e+03 -1.00000000e+03]\n",
            " [-1.00000000e+03 -1.00000000e+03 -1.00000000e+03]\n",
            " [-1.00000000e+03 -1.00000000e+03 -1.00000000e+03]\n",
            " [-1.00000000e+03 -1.00000000e+03 -1.00000000e+03]\n",
            " [-1.00000000e+03 -1.00000000e+03 -1.00000000e+03]\n",
            " [-1.00000000e+03 -1.00000000e+03 -1.00000000e+03]\n",
            " [-1.00000000e+03 -1.00000000e+03 -1.00000000e+03]\n",
            " [-1.00000000e+03 -1.00000000e+03 -1.00000000e+03]\n",
            " [-1.00000000e+03 -1.00000000e+03 -1.00000000e+03]\n",
            " [-1.00000000e+03 -1.00000000e+03 -1.00000000e+03]\n",
            " [-1.00000000e+03 -1.00000000e+03 -1.00000000e+03]\n",
            " [-1.00000000e+03 -1.00000000e+03 -1.00000000e+03]\n",
            " [-1.00000000e+03 -1.00000000e+03 -1.00000000e+03]\n",
            " [-1.00000000e+03 -1.00000000e+03 -1.00000000e+03]\n",
            " [-1.00000000e+03 -1.00000000e+03 -1.00000000e+03]\n",
            " [-1.00000000e+03 -1.00000000e+03 -1.00000000e+03]\n",
            " [-1.00000000e+03 -1.00000000e+03 -1.00000000e+03]\n",
            " [-1.00000000e+03 -1.00000000e+03 -1.00000000e+03]\n",
            " [-1.00000000e+03 -1.00000000e+03 -1.00000000e+03]\n",
            " [-1.00000000e+03 -1.00000000e+03 -1.00000000e+03]\n",
            " [-1.00000000e+03 -1.00000000e+03 -1.00000000e+03]\n",
            " [-1.00000000e+03 -1.00000000e+03 -1.00000000e+03]\n",
            " [-1.00000000e+03 -1.00000000e+03 -1.00000000e+03]\n",
            " [-1.00000000e+03 -1.00000000e+03 -1.00000000e+03]\n",
            " [-1.00000000e+03 -1.00000000e+03 -1.00000000e+03]\n",
            " [-1.00000000e+03 -1.00000000e+03 -1.00000000e+03]\n",
            " [-1.00000000e+03 -1.00000000e+03 -1.00000000e+03]\n",
            " [-1.00000000e+03 -1.00000000e+03 -1.00000000e+03]\n",
            " [-1.00000000e+03 -1.00000000e+03 -1.00000000e+03]\n",
            " [-1.00000000e+03 -1.00000000e+03 -1.00000000e+03]\n",
            " [-1.00000000e+03 -1.00000000e+03 -1.00000000e+03]\n",
            " [-1.00000000e+03 -1.00000000e+03 -1.00000000e+03]\n",
            " [-1.00000000e+03 -1.00000000e+03 -1.00000000e+03]\n",
            " [-1.00000000e+03 -1.00000000e+03 -1.00000000e+03]\n",
            " [-1.00000000e+03 -1.00000000e+03 -1.00000000e+03]\n",
            " [-1.00000000e+03 -1.00000000e+03 -1.00000000e+03]\n",
            " [-1.00000000e+03 -1.00000000e+03 -1.00000000e+03]\n",
            " [-1.00000000e+03 -1.00000000e+03 -1.00000000e+03]\n",
            " [-1.00000000e+03 -1.00000000e+03 -1.00000000e+03]\n",
            " [-1.00000000e+03 -1.00000000e+03 -1.00000000e+03]\n",
            " [-1.00000000e+03 -1.00000000e+03 -1.00000000e+03]\n",
            " [-1.00000000e+03 -1.00000000e+03 -1.00000000e+03]]\n"
          ],
          "name": "stdout"
        }
      ]
    },
    {
      "cell_type": "code",
      "metadata": {
        "id": "AEdWVugFHmxy",
        "colab_type": "code",
        "outputId": "c7b923e7-b930-42ce-b3ff-7ff38d603366",
        "colab": {
          "base_uri": "https://localhost:8080/",
          "height": 50
        }
      },
      "source": [
        "print(pred_target_cam[55])\n",
        "print(test_target_cam[55])"
      ],
      "execution_count": 0,
      "outputs": [
        {
          "output_type": "stream",
          "text": [
            "[  8.598923 -15.868231]\n",
            "[ 1.53193271 -0.08726646]\n"
          ],
          "name": "stdout"
        }
      ]
    },
    {
      "cell_type": "code",
      "metadata": {
        "id": "uBttSyLtRhUH",
        "colab_type": "code",
        "colab": {}
      },
      "source": [
        "[pred_target_cam,pred_target_windows] = model.predict([test_data_left,test_data_right])\n",
        "\n",
        "for photo in range(len(pred_target_windows)):\n",
        "  for window in range(len(pred_target_windows[photo])):\n",
        "    for i in range(len(pred_target_windows[photo][window])):\n",
        "      if(pred_target_windows[photo][window][i] < nonVector/3 ):\n",
        "        pred_target_windows[photo][window][i] = nonVector"
      ],
      "execution_count": 0,
      "outputs": []
    },
    {
      "cell_type": "code",
      "metadata": {
        "id": "_NCiCwn2mI3H",
        "colab_type": "code",
        "outputId": "1c01fcac-df4b-4c95-972c-162711dba51e",
        "colab": {
          "base_uri": "https://localhost:8080/",
          "height": 1000
        }
      },
      "source": [
        "print(pred_target_windows[80])\n",
        "print(test_target[80])"
      ],
      "execution_count": 0,
      "outputs": [
        {
          "output_type": "stream",
          "text": [
            "[[  -19.700275     24.04827      -8.77463  ]\n",
            " [   35.56099     103.716255    -14.366431 ]\n",
            " [    2.1803617    77.65384      37.39055  ]\n",
            " [  -76.0948       42.486557     23.201265 ]\n",
            " [    3.2261126    23.072895     19.079851 ]\n",
            " [   10.404868     67.888145     43.949615 ]\n",
            " [  -11.841255     37.873867     49.153297 ]\n",
            " [    2.3465698    87.359726     23.567162 ]\n",
            " [    6.116331     76.295         4.3454976]\n",
            " [  -27.171782     67.45649      -4.2823515]\n",
            " [   52.358414     92.91413      35.108612 ]\n",
            " [  -34.759552     85.58761      65.87465  ]\n",
            " [  -53.34285      17.753235     27.231865 ]\n",
            " [  -64.0562      -38.073917     47.79392  ]\n",
            " [   29.602238    161.32564      -7.1391864]\n",
            " [   31.782053     38.319866     36.245995 ]\n",
            " [    9.716111    100.68621     -69.691216 ]\n",
            " [   34.515858     15.955771     72.232605 ]\n",
            " [  -42.34761      84.776596   -116.26353  ]\n",
            " [  -32.76517      80.2694      -47.89468  ]\n",
            " [-1000.        -1000.        -1000.       ]\n",
            " [-1000.        -1000.        -1000.       ]\n",
            " [-1000.        -1000.        -1000.       ]\n",
            " [-1000.        -1000.        -1000.       ]\n",
            " [-1000.        -1000.        -1000.       ]\n",
            " [-1000.        -1000.        -1000.       ]\n",
            " [-1000.        -1000.        -1000.       ]\n",
            " [-1000.        -1000.        -1000.       ]\n",
            " [-1000.        -1000.        -1000.       ]\n",
            " [-1000.        -1000.        -1000.       ]\n",
            " [-1000.        -1000.        -1000.       ]\n",
            " [-1000.        -1000.        -1000.       ]\n",
            " [-1000.        -1000.        -1000.       ]\n",
            " [-1000.        -1000.        -1000.       ]\n",
            " [-1000.        -1000.        -1000.       ]\n",
            " [-1000.        -1000.        -1000.       ]\n",
            " [-1000.        -1000.        -1000.       ]\n",
            " [-1000.        -1000.        -1000.       ]\n",
            " [-1000.        -1000.        -1000.       ]\n",
            " [-1000.        -1000.        -1000.       ]\n",
            " [-1000.        -1000.        -1000.       ]\n",
            " [-1000.        -1000.        -1000.       ]\n",
            " [-1000.        -1000.        -1000.       ]\n",
            " [-1000.        -1000.        -1000.       ]\n",
            " [-1000.        -1000.        -1000.       ]\n",
            " [-1000.        -1000.        -1000.       ]\n",
            " [-1000.        -1000.        -1000.       ]\n",
            " [-1000.        -1000.        -1000.       ]\n",
            " [-1000.        -1000.        -1000.       ]\n",
            " [-1000.        -1000.        -1000.       ]\n",
            " [-1000.        -1000.        -1000.       ]\n",
            " [-1000.        -1000.        -1000.       ]\n",
            " [-1000.        -1000.        -1000.       ]\n",
            " [-1000.        -1000.        -1000.       ]\n",
            " [-1000.        -1000.        -1000.       ]\n",
            " [-1000.        -1000.        -1000.       ]\n",
            " [-1000.        -1000.        -1000.       ]\n",
            " [-1000.        -1000.        -1000.       ]\n",
            " [-1000.        -1000.        -1000.       ]\n",
            " [-1000.        -1000.        -1000.       ]\n",
            " [-1000.        -1000.        -1000.       ]\n",
            " [-1000.        -1000.        -1000.       ]\n",
            " [-1000.        -1000.        -1000.       ]\n",
            " [-1000.        -1000.        -1000.       ]\n",
            " [-1000.        -1000.        -1000.       ]\n",
            " [-1000.        -1000.        -1000.       ]\n",
            " [-1000.        -1000.        -1000.       ]\n",
            " [-1000.        -1000.        -1000.       ]\n",
            " [-1000.        -1000.        -1000.       ]\n",
            " [-1000.        -1000.        -1000.       ]\n",
            " [-1000.        -1000.        -1000.       ]\n",
            " [-1000.        -1000.        -1000.       ]\n",
            " [-1000.        -1000.        -1000.       ]\n",
            " [-1000.        -1000.        -1000.       ]\n",
            " [-1000.        -1000.        -1000.       ]\n",
            " [-1000.        -1000.        -1000.       ]\n",
            " [-1000.        -1000.        -1000.       ]\n",
            " [-1000.        -1000.        -1000.       ]\n",
            " [-1000.        -1000.        -1000.       ]\n",
            " [-1000.        -1000.        -1000.       ]\n",
            " [-1000.        -1000.        -1000.       ]\n",
            " [-1000.        -1000.        -1000.       ]\n",
            " [-1000.        -1000.        -1000.       ]\n",
            " [-1000.        -1000.        -1000.       ]\n",
            " [-1000.        -1000.        -1000.       ]\n",
            " [-1000.        -1000.        -1000.       ]\n",
            " [-1000.        -1000.        -1000.       ]\n",
            " [-1000.        -1000.        -1000.       ]\n",
            " [-1000.        -1000.        -1000.       ]\n",
            " [-1000.        -1000.        -1000.       ]\n",
            " [-1000.        -1000.        -1000.       ]\n",
            " [-1000.        -1000.        -1000.       ]\n",
            " [-1000.        -1000.        -1000.       ]\n",
            " [-1000.        -1000.        -1000.       ]\n",
            " [-1000.        -1000.        -1000.       ]\n",
            " [-1000.        -1000.        -1000.       ]\n",
            " [-1000.        -1000.        -1000.       ]\n",
            " [-1000.        -1000.        -1000.       ]\n",
            " [-1000.        -1000.        -1000.       ]\n",
            " [-1000.        -1000.        -1000.       ]\n",
            " [-1000.        -1000.        -1000.       ]\n",
            " [-1000.        -1000.        -1000.       ]\n",
            " [-1000.        -1000.        -1000.       ]\n",
            " [-1000.        -1000.        -1000.       ]\n",
            " [-1000.        -1000.        -1000.       ]\n",
            " [-1000.        -1000.        -1000.       ]\n",
            " [-1000.        -1000.        -1000.       ]\n",
            " [-1000.        -1000.        -1000.       ]\n",
            " [-1000.        -1000.        -1000.       ]\n",
            " [-1000.        -1000.        -1000.       ]\n",
            " [-1000.        -1000.        -1000.       ]\n",
            " [-1000.        -1000.        -1000.       ]\n",
            " [-1000.        -1000.        -1000.       ]\n",
            " [-1000.        -1000.        -1000.       ]\n",
            " [-1000.        -1000.        -1000.       ]\n",
            " [-1000.        -1000.        -1000.       ]\n",
            " [-1000.        -1000.        -1000.       ]\n",
            " [-1000.        -1000.        -1000.       ]\n",
            " [-1000.        -1000.        -1000.       ]\n",
            " [-1000.        -1000.        -1000.       ]\n",
            " [-1000.        -1000.        -1000.       ]\n",
            " [-1000.        -1000.        -1000.       ]\n",
            " [-1000.        -1000.        -1000.       ]\n",
            " [-1000.        -1000.        -1000.       ]\n",
            " [-1000.        -1000.        -1000.       ]\n",
            " [-1000.        -1000.        -1000.       ]\n",
            " [-1000.        -1000.        -1000.       ]\n",
            " [-1000.        -1000.        -1000.       ]\n",
            " [-1000.        -1000.        -1000.       ]\n",
            " [-1000.        -1000.        -1000.       ]\n",
            " [-1000.        -1000.        -1000.       ]\n",
            " [-1000.        -1000.        -1000.       ]\n",
            " [-1000.        -1000.        -1000.       ]\n",
            " [-1000.        -1000.        -1000.       ]\n",
            " [-1000.        -1000.        -1000.       ]\n",
            " [-1000.        -1000.        -1000.       ]\n",
            " [-1000.        -1000.        -1000.       ]\n",
            " [-1000.        -1000.        -1000.       ]\n",
            " [-1000.        -1000.        -1000.       ]\n",
            " [-1000.        -1000.        -1000.       ]\n",
            " [-1000.        -1000.        -1000.       ]\n",
            " [-1000.        -1000.        -1000.       ]\n",
            " [-1000.        -1000.        -1000.       ]\n",
            " [-1000.        -1000.        -1000.       ]]\n",
            "[[-6.83035183e+00  2.93584824e+01  1.34188104e+00]\n",
            " [-6.05453587e+00  2.89705734e+01  1.34188104e+00]\n",
            " [-6.83035183e+00  2.93584824e+01 -9.87836123e-02]\n",
            " [-6.05453587e+00  2.89705734e+01 -9.87836123e-02]\n",
            " [-3.40557575e+00  3.02194672e+01  1.34188151e+00]\n",
            " [-1.75911903e+00  2.93962383e+01  1.34188151e+00]\n",
            " [-3.40557575e+00  3.02194672e+01 -9.87831354e-02]\n",
            " [-1.75911903e+00  2.93962383e+01 -9.87831354e-02]\n",
            " [-7.09408760e-01  2.88713837e+01  1.34188223e+00]\n",
            " [ 4.07443047e-01  2.83129578e+01  1.34188199e+00]\n",
            " [-7.09408760e-01  2.88713837e+01 -9.87824202e-02]\n",
            " [ 4.07443047e-01  2.83129578e+01 -9.87824202e-02]\n",
            " [ 9.67671394e-01  2.80328426e+01  1.34188199e+00]\n",
            " [ 2.08452320e+00  2.74744167e+01  1.34188223e+00]\n",
            " [ 9.67671394e-01  2.80328426e+01 -9.87824202e-02]\n",
            " [ 2.08452320e+00  2.74744167e+01 -9.87824202e-02]\n",
            " [ 4.75919724e+00  3.00137062e+01  1.34188199e+00]\n",
            " [ 5.31762314e+00  3.11305580e+01  1.34188151e+00]\n",
            " [ 4.75919724e+00  3.00137062e+01 -9.87828970e-02]\n",
            " [ 5.31762314e+00  3.11305580e+01 -9.87826586e-02]\n",
            " [-1.00000000e+03 -1.00000000e+03 -1.00000000e+03]\n",
            " [-1.00000000e+03 -1.00000000e+03 -1.00000000e+03]\n",
            " [-1.00000000e+03 -1.00000000e+03 -1.00000000e+03]\n",
            " [-1.00000000e+03 -1.00000000e+03 -1.00000000e+03]\n",
            " [-1.00000000e+03 -1.00000000e+03 -1.00000000e+03]\n",
            " [-1.00000000e+03 -1.00000000e+03 -1.00000000e+03]\n",
            " [-1.00000000e+03 -1.00000000e+03 -1.00000000e+03]\n",
            " [-1.00000000e+03 -1.00000000e+03 -1.00000000e+03]\n",
            " [-1.00000000e+03 -1.00000000e+03 -1.00000000e+03]\n",
            " [-1.00000000e+03 -1.00000000e+03 -1.00000000e+03]\n",
            " [-1.00000000e+03 -1.00000000e+03 -1.00000000e+03]\n",
            " [-1.00000000e+03 -1.00000000e+03 -1.00000000e+03]\n",
            " [-1.00000000e+03 -1.00000000e+03 -1.00000000e+03]\n",
            " [-1.00000000e+03 -1.00000000e+03 -1.00000000e+03]\n",
            " [-1.00000000e+03 -1.00000000e+03 -1.00000000e+03]\n",
            " [-1.00000000e+03 -1.00000000e+03 -1.00000000e+03]\n",
            " [-1.00000000e+03 -1.00000000e+03 -1.00000000e+03]\n",
            " [-1.00000000e+03 -1.00000000e+03 -1.00000000e+03]\n",
            " [-1.00000000e+03 -1.00000000e+03 -1.00000000e+03]\n",
            " [-1.00000000e+03 -1.00000000e+03 -1.00000000e+03]\n",
            " [-1.00000000e+03 -1.00000000e+03 -1.00000000e+03]\n",
            " [-1.00000000e+03 -1.00000000e+03 -1.00000000e+03]\n",
            " [-1.00000000e+03 -1.00000000e+03 -1.00000000e+03]\n",
            " [-1.00000000e+03 -1.00000000e+03 -1.00000000e+03]\n",
            " [-1.00000000e+03 -1.00000000e+03 -1.00000000e+03]\n",
            " [-1.00000000e+03 -1.00000000e+03 -1.00000000e+03]\n",
            " [-1.00000000e+03 -1.00000000e+03 -1.00000000e+03]\n",
            " [-1.00000000e+03 -1.00000000e+03 -1.00000000e+03]\n",
            " [-1.00000000e+03 -1.00000000e+03 -1.00000000e+03]\n",
            " [-1.00000000e+03 -1.00000000e+03 -1.00000000e+03]\n",
            " [-1.00000000e+03 -1.00000000e+03 -1.00000000e+03]\n",
            " [-1.00000000e+03 -1.00000000e+03 -1.00000000e+03]\n",
            " [-1.00000000e+03 -1.00000000e+03 -1.00000000e+03]\n",
            " [-1.00000000e+03 -1.00000000e+03 -1.00000000e+03]\n",
            " [-1.00000000e+03 -1.00000000e+03 -1.00000000e+03]\n",
            " [-1.00000000e+03 -1.00000000e+03 -1.00000000e+03]\n",
            " [-1.00000000e+03 -1.00000000e+03 -1.00000000e+03]\n",
            " [-1.00000000e+03 -1.00000000e+03 -1.00000000e+03]\n",
            " [-1.00000000e+03 -1.00000000e+03 -1.00000000e+03]\n",
            " [-1.00000000e+03 -1.00000000e+03 -1.00000000e+03]\n",
            " [-1.00000000e+03 -1.00000000e+03 -1.00000000e+03]\n",
            " [-1.00000000e+03 -1.00000000e+03 -1.00000000e+03]\n",
            " [-1.00000000e+03 -1.00000000e+03 -1.00000000e+03]\n",
            " [-1.00000000e+03 -1.00000000e+03 -1.00000000e+03]\n",
            " [-1.00000000e+03 -1.00000000e+03 -1.00000000e+03]\n",
            " [-1.00000000e+03 -1.00000000e+03 -1.00000000e+03]\n",
            " [-1.00000000e+03 -1.00000000e+03 -1.00000000e+03]\n",
            " [-1.00000000e+03 -1.00000000e+03 -1.00000000e+03]\n",
            " [-1.00000000e+03 -1.00000000e+03 -1.00000000e+03]\n",
            " [-1.00000000e+03 -1.00000000e+03 -1.00000000e+03]\n",
            " [-1.00000000e+03 -1.00000000e+03 -1.00000000e+03]\n",
            " [-1.00000000e+03 -1.00000000e+03 -1.00000000e+03]\n",
            " [-1.00000000e+03 -1.00000000e+03 -1.00000000e+03]\n",
            " [-1.00000000e+03 -1.00000000e+03 -1.00000000e+03]\n",
            " [-1.00000000e+03 -1.00000000e+03 -1.00000000e+03]\n",
            " [-1.00000000e+03 -1.00000000e+03 -1.00000000e+03]\n",
            " [-1.00000000e+03 -1.00000000e+03 -1.00000000e+03]\n",
            " [-1.00000000e+03 -1.00000000e+03 -1.00000000e+03]\n",
            " [-1.00000000e+03 -1.00000000e+03 -1.00000000e+03]\n",
            " [-1.00000000e+03 -1.00000000e+03 -1.00000000e+03]\n",
            " [-1.00000000e+03 -1.00000000e+03 -1.00000000e+03]\n",
            " [-1.00000000e+03 -1.00000000e+03 -1.00000000e+03]\n",
            " [-1.00000000e+03 -1.00000000e+03 -1.00000000e+03]\n",
            " [-1.00000000e+03 -1.00000000e+03 -1.00000000e+03]\n",
            " [-1.00000000e+03 -1.00000000e+03 -1.00000000e+03]\n",
            " [-1.00000000e+03 -1.00000000e+03 -1.00000000e+03]\n",
            " [-1.00000000e+03 -1.00000000e+03 -1.00000000e+03]\n",
            " [-1.00000000e+03 -1.00000000e+03 -1.00000000e+03]\n",
            " [-1.00000000e+03 -1.00000000e+03 -1.00000000e+03]\n",
            " [-1.00000000e+03 -1.00000000e+03 -1.00000000e+03]\n",
            " [-1.00000000e+03 -1.00000000e+03 -1.00000000e+03]\n",
            " [-1.00000000e+03 -1.00000000e+03 -1.00000000e+03]\n",
            " [-1.00000000e+03 -1.00000000e+03 -1.00000000e+03]\n",
            " [-1.00000000e+03 -1.00000000e+03 -1.00000000e+03]\n",
            " [-1.00000000e+03 -1.00000000e+03 -1.00000000e+03]\n",
            " [-1.00000000e+03 -1.00000000e+03 -1.00000000e+03]\n",
            " [-1.00000000e+03 -1.00000000e+03 -1.00000000e+03]\n",
            " [-1.00000000e+03 -1.00000000e+03 -1.00000000e+03]\n",
            " [-1.00000000e+03 -1.00000000e+03 -1.00000000e+03]\n",
            " [-1.00000000e+03 -1.00000000e+03 -1.00000000e+03]\n",
            " [-1.00000000e+03 -1.00000000e+03 -1.00000000e+03]\n",
            " [-1.00000000e+03 -1.00000000e+03 -1.00000000e+03]\n",
            " [-1.00000000e+03 -1.00000000e+03 -1.00000000e+03]\n",
            " [-1.00000000e+03 -1.00000000e+03 -1.00000000e+03]\n",
            " [-1.00000000e+03 -1.00000000e+03 -1.00000000e+03]\n",
            " [-1.00000000e+03 -1.00000000e+03 -1.00000000e+03]\n",
            " [-1.00000000e+03 -1.00000000e+03 -1.00000000e+03]\n",
            " [-1.00000000e+03 -1.00000000e+03 -1.00000000e+03]\n",
            " [-1.00000000e+03 -1.00000000e+03 -1.00000000e+03]\n",
            " [-1.00000000e+03 -1.00000000e+03 -1.00000000e+03]\n",
            " [-1.00000000e+03 -1.00000000e+03 -1.00000000e+03]\n",
            " [-1.00000000e+03 -1.00000000e+03 -1.00000000e+03]\n",
            " [-1.00000000e+03 -1.00000000e+03 -1.00000000e+03]\n",
            " [-1.00000000e+03 -1.00000000e+03 -1.00000000e+03]\n",
            " [-1.00000000e+03 -1.00000000e+03 -1.00000000e+03]\n",
            " [-1.00000000e+03 -1.00000000e+03 -1.00000000e+03]\n",
            " [-1.00000000e+03 -1.00000000e+03 -1.00000000e+03]\n",
            " [-1.00000000e+03 -1.00000000e+03 -1.00000000e+03]\n",
            " [-1.00000000e+03 -1.00000000e+03 -1.00000000e+03]\n",
            " [-1.00000000e+03 -1.00000000e+03 -1.00000000e+03]\n",
            " [-1.00000000e+03 -1.00000000e+03 -1.00000000e+03]\n",
            " [-1.00000000e+03 -1.00000000e+03 -1.00000000e+03]\n",
            " [-1.00000000e+03 -1.00000000e+03 -1.00000000e+03]\n",
            " [-1.00000000e+03 -1.00000000e+03 -1.00000000e+03]\n",
            " [-1.00000000e+03 -1.00000000e+03 -1.00000000e+03]\n",
            " [-1.00000000e+03 -1.00000000e+03 -1.00000000e+03]\n",
            " [-1.00000000e+03 -1.00000000e+03 -1.00000000e+03]\n",
            " [-1.00000000e+03 -1.00000000e+03 -1.00000000e+03]\n",
            " [-1.00000000e+03 -1.00000000e+03 -1.00000000e+03]\n",
            " [-1.00000000e+03 -1.00000000e+03 -1.00000000e+03]\n",
            " [-1.00000000e+03 -1.00000000e+03 -1.00000000e+03]\n",
            " [-1.00000000e+03 -1.00000000e+03 -1.00000000e+03]\n",
            " [-1.00000000e+03 -1.00000000e+03 -1.00000000e+03]\n",
            " [-1.00000000e+03 -1.00000000e+03 -1.00000000e+03]\n",
            " [-1.00000000e+03 -1.00000000e+03 -1.00000000e+03]\n",
            " [-1.00000000e+03 -1.00000000e+03 -1.00000000e+03]\n",
            " [-1.00000000e+03 -1.00000000e+03 -1.00000000e+03]\n",
            " [-1.00000000e+03 -1.00000000e+03 -1.00000000e+03]\n",
            " [-1.00000000e+03 -1.00000000e+03 -1.00000000e+03]\n",
            " [-1.00000000e+03 -1.00000000e+03 -1.00000000e+03]\n",
            " [-1.00000000e+03 -1.00000000e+03 -1.00000000e+03]\n",
            " [-1.00000000e+03 -1.00000000e+03 -1.00000000e+03]\n",
            " [-1.00000000e+03 -1.00000000e+03 -1.00000000e+03]\n",
            " [-1.00000000e+03 -1.00000000e+03 -1.00000000e+03]]\n"
          ],
          "name": "stdout"
        }
      ]
    },
    {
      "cell_type": "markdown",
      "metadata": {
        "id": "2-nuB5qHwgxE",
        "colab_type": "text"
      },
      "source": [
        "Windows counting accuracy"
      ]
    },
    {
      "cell_type": "code",
      "metadata": {
        "id": "rIw5NuPMUyuU",
        "colab_type": "code",
        "outputId": "77aa2955-6873-40d9-d9fb-9581ecd0bb6c",
        "colab": {
          "base_uri": "https://localhost:8080/",
          "height": 101
        }
      },
      "source": [
        "\n",
        "truePositive = 0\n",
        "falsePositive = 0\n",
        "trueNegative = 0\n",
        "falseNegative = 0\n",
        "\n",
        "for photo in range(len(pred_target_windows)):\n",
        "  for window in range(len(pred_target_windows[photo])):\n",
        "    for i in range(len(pred_target_windows[photo][window])):\n",
        "      if(pred_target_windows[photo][window][i] == nonVector == test_target[photo][window][i]):\n",
        "        trueNegative += 1\n",
        "      elif(pred_target_windows[photo][window][i] != nonVector and test_target[photo][window][i] != nonVector):\n",
        "        truePositive += 1\n",
        "      elif(pred_target_windows[photo][window][i] == nonVector and test_target[photo][window][i] != nonVector):\n",
        "        falseNegative += 1\n",
        "      else:\n",
        "        falsePositive += 1\n",
        "\n",
        "print(\"True Positive: \", truePositive)\n",
        "print(\"False Positive: \", falsePositive)\n",
        "print(\"True Negative: \", trueNegative)\n",
        "print(\"False Negative: \", falseNegative)\n",
        "\n",
        "print(\"Acc: \", (truePositive+trueNegative)/(truePositive+falsePositive+trueNegative+falseNegative))\n"
      ],
      "execution_count": 0,
      "outputs": [
        {
          "output_type": "stream",
          "text": [
            "True Positive:  18721\n",
            "False Positive:  1364\n",
            "True Negative:  59608\n",
            "False Negative:  2387\n",
            "Acc:  0.9543006822612086\n"
          ],
          "name": "stdout"
        }
      ]
    }
  ]
}